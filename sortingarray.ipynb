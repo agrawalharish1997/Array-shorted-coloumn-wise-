{
  "nbformat": 4,
  "nbformat_minor": 0,
  "metadata": {
    "colab": {
      "name": "sortingarray.ipynb",
      "provenance": [],
      "authorship_tag": "ABX9TyMQROtwV3R4aqj4RVIyvwxt",
      "include_colab_link": true
    },
    "kernelspec": {
      "name": "python3",
      "display_name": "Python 3"
    }
  },
  "cells": [
    {
      "cell_type": "markdown",
      "metadata": {
        "id": "view-in-github",
        "colab_type": "text"
      },
      "source": [
        "<a href=\"https://colab.research.google.com/github/agrawalharish1997/Array-shorted-coloumn-wise-/blob/master/sortingarray.ipynb\" target=\"_parent\"><img src=\"https://colab.research.google.com/assets/colab-badge.svg\" alt=\"Open In Colab\"/></a>"
      ]
    },
    {
      "cell_type": "code",
      "metadata": {
        "id": "Xvrtn3YzYDVk",
        "colab_type": "code",
        "outputId": "b26c7112-8c7f-428d-db51-9bee2d233dfd",
        "colab": {
          "base_uri": "https://localhost:8080/",
          "height": 153
        }
      },
      "source": [
        "\n",
        "import numpy as np\n",
        "arr2D = np.array([[11, 7, 13, 22], [11, 7, 23, 14], [31, 10, 33, 7]])\n",
        " \n",
        "print('2D Numpy Array')\n",
        "print(arr2D)\n",
        "sortedArr = arr2D[arr2D[:,0].argsort()]\n",
        " \n",
        "print('Sorted 2D Numpy Array')\n",
        "print(sortedArr)\n"
      ],
      "execution_count": 0,
      "outputs": [
        {
          "output_type": "stream",
          "text": [
            "2D Numpy Array\n",
            "[[11  7 13 22]\n",
            " [11  7 23 14]\n",
            " [31 10 33  7]]\n",
            "Sorted 2D Numpy Array\n",
            "[[11  7 13 22]\n",
            " [11  7 23 14]\n",
            " [31 10 33  7]]\n"
          ],
          "name": "stdout"
        }
      ]
    }
  ]
}